{
  "cells": [
    {
      "cell_type": "markdown",
      "metadata": {
        "colab_type": "text",
        "id": "view-in-github"
      },
      "source": [
        "<a href=\"https://colab.research.google.com/github/t-sasatani/wpt-analysis/blob/main/examples/measurement_sample.ipynb\" target=\"_parent\"><img src=\"https://colab.research.google.com/assets/colab-badge.svg\" alt=\"Open In Colab\"/></a>"
      ]
    },
    {
      "cell_type": "code",
      "execution_count": null,
      "metadata": {},
      "outputs": [],
      "source": [
        "import os\n",
        "\n",
        "if 'COLAB_GPU' in os.environ:\n",
        "    !pip install git+https://github.com/t-sasatani/wpt-tools"
      ]
    },
    {
      "cell_type": "code",
      "execution_count": null,
      "metadata": {
        "colab": {
          "base_uri": "https://localhost:8080/"
        },
        "id": "6DKXp7AfrkLX",
        "outputId": "f307c66d-d1cb-4a0c-c9d5-65f6684d21fa"
      },
      "outputs": [],
      "source": [
        "from wpt_tools.analysis import RichNetwork, nw_tools"
      ]
    },
    {
      "cell_type": "markdown",
      "metadata": {
        "id": "-7KctcRArkLX"
      },
      "source": [
        "### Create instance of analysis and set initial variables"
      ]
    },
    {
      "cell_type": "code",
      "execution_count": null,
      "metadata": {
        "id": "rDi2QQ8GrkLY"
      },
      "outputs": [],
      "source": [
        "example_nw = RichNetwork.from_touchstone('./assets/sample.s2p')\n",
        "example_nw.set_f_target_range(target_f=6.78e6, range_f=1e6)\n"
      ]
    },
    {
      "cell_type": "markdown",
      "metadata": {
        "id": "T55fRDKnrkLa"
      },
      "source": [
        "### Plot Z-parameters (full-range)"
      ]
    },
    {
      "cell_type": "code",
      "execution_count": null,
      "metadata": {
        "colab": {
          "base_uri": "https://localhost:8080/",
          "height": 199
        },
        "id": "h8wyZES6rkLb",
        "outputId": "63645f83-8e1b-4164-830c-cc4b1ec8c8e0"
      },
      "outputs": [],
      "source": [
        "nw_tools.plot_z_full(example_nw)"
      ]
    },
    {
      "cell_type": "markdown",
      "metadata": {
        "id": "UqpvQiBurkLc"
      },
      "source": [
        "### Efficiency and optimal load analysis (for general 2-port networks)\n",
        "This becomes unstable when the analysis frequency is far from the resonant frequency.\n",
        "This is probably because to S to Z conversion becomes unstable."
      ]
    },
    {
      "cell_type": "code",
      "execution_count": null,
      "metadata": {
        "colab": {
          "base_uri": "https://localhost:8080/",
          "height": 299
        },
        "id": "nktohMI8rkLc",
        "outputId": "33c0c1dd-2b50-4c4c-895f-8ef10468c4e2"
      },
      "outputs": [],
      "source": [
        "f_opt, eff_opt, r_opt, x_opt = nw_tools.analyze_efficiency(\n",
        "    rich_nw=example_nw,\n",
        "    show_plot=1,\n",
        "    rx_port=1\n",
        "    )"
      ]
    },
    {
      "cell_type": "markdown",
      "metadata": {
        "id": "eEzlDs-UrkLc"
      },
      "source": [
        "### Curve-fitting and Z-matrix plot (only for 2-port measurement of Series-Series LCR coupling)"
      ]
    },
    {
      "cell_type": "code",
      "execution_count": null,
      "metadata": {
        "colab": {
          "base_uri": "https://localhost:8080/",
          "height": 599
        },
        "id": "4Apt0kyCrkLd",
        "outputId": "c2380742-95a5-4c00-f3f3-1cd25b3aa496"
      },
      "outputs": [],
      "source": [
        "# For maximum efficiency analysis\n",
        "target_f = 6.78e6\n",
        "range_f = 1e6\n",
        "\n",
        "ls1, cs1, rs1, ls2, cs2, rs2, lm = nw_tools.fit_z_narrow(\n",
        "    rich_nw=example_nw,\n",
        "    show_plot=1,\n",
        "    )"
      ]
    },
    {
      "cell_type": "markdown",
      "metadata": {
        "id": "8A0ScoMFrkLd"
      },
      "source": [
        "### Optimal load visualization"
      ]
    },
    {
      "cell_type": "code",
      "execution_count": null,
      "metadata": {
        "id": "u_PRE8sArkLd"
      },
      "outputs": [],
      "source": [
        "nw_tools.plot_optimal_load(\n",
        "    rich_nw=example_nw,\n",
        "    min_rez=0.1,\n",
        "    max_rez=50,\n",
        "    step_rez=0.2,\n",
        "    min_imz=-200,\n",
        "    max_imz=200,\n",
        "    step_imz=1,\n",
        "    input_voltage=5,\n",
        "    rx_port=1\n",
        ")"
      ]
    },
    {
      "cell_type": "markdown",
      "metadata": {
        "id": "zdtLZYA8rkLd"
      },
      "source": [
        "### Capacitor filter calculator\n",
        "![](https://github.com/t-sasatani/wpt-analysis/blob/main/examples/img/CpCsRltopology.png?raw=1)"
      ]
    },
    {
      "cell_type": "code",
      "execution_count": null,
      "metadata": {
        "id": "ZPLdqU7urkLd"
      },
      "outputs": [],
      "source": [
        "nw_tools.calc_rxc_filter(\n",
        "    rich_nw=example_nw,\n",
        "    rx_port = 1,\n",
        "    rload = 100,\n",
        "    c_network = 'CpCsRl'\n",
        ")"
      ]
    }
  ],
  "metadata": {
    "colab": {
      "include_colab_link": true,
      "provenance": []
    },
    "kernelspec": {
      "display_name": ".venv",
      "language": "python",
      "name": "python3"
    },
    "language_info": {
      "codemirror_mode": {
        "name": "ipython",
        "version": 3
      },
      "file_extension": ".py",
      "mimetype": "text/x-python",
      "name": "python",
      "nbconvert_exporter": "python",
      "pygments_lexer": "ipython3",
      "version": "3.12.9"
    }
  },
  "nbformat": 4,
  "nbformat_minor": 0
}
